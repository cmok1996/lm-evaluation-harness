{
 "cells": [
  {
   "cell_type": "code",
   "execution_count": 1,
   "id": "462936ab",
   "metadata": {},
   "outputs": [],
   "source": [
    "import requests\n",
    "import pandas as pd\n",
    "import numpy as np\n",
    "import matplotlib.pyplot as plt\n",
    "import seaborn as sns\n",
    "import json"
   ]
  },
  {
   "cell_type": "code",
   "execution_count": null,
   "id": "3b06d5f6",
   "metadata": {},
   "outputs": [],
   "source": [
    "# prompt = \"Write a 300+ word summary of the wikipedia page \\\"https://en.wikipedia.org/wiki/Raymond_III,_Count_of_Tripoli\\\". Do not use any commas and highlight at least 3 sections that has titles in markdown format, for example *highlighted section part 1*, *highlighted section part 2*, *highlighted section part 3*.\"\n",
    "\n",
    "prompt = \"The following are multiple choice questions (with answers) about abstract algebra.\\n\\nFind the degree for the given field extension Q(sqrt(2), sqrt(3), sqrt(18)) over Q.\\nA. 0\\nB. 4\\nC. 2\\nD. 6\\nAnswer with only the result, no explanations needed. \\nAnswer:\""
   ]
  },
  {
   "cell_type": "code",
   "execution_count": 14,
   "id": "6900765d",
   "metadata": {},
   "outputs": [
    {
     "name": "stdout",
     "output_type": "stream",
     "text": [
      "200\n",
      "{'pivot_table': [{'task': 'ifeval', 'subtask': 'ifeval', 'prompt_idx': 0, 'prompt': 'Write a 300+ word summary of the wikipedia page \"https://en.wikipedia.org/wiki/Raymond_III,_Count_of_Tripoli\". Do not use any commas and highlight at least 3 sections that has titles in markdown format, for example *highlighted section part 1*, *highlighted section part 2*, *highlighted section part 3*.', 'gold': '0', 'llama3.1': False, 'phi3.5': False}], 'responses': [{'model': 'llama3.1', 'task': 'ifeval', 'subtask': 'ifeval', 'prompt_idx': 0, 'prompt': 'Write a 300+ word summary of the wikipedia page \"https://en.wikipedia.org/wiki/Raymond_III,_Count_of_Tripoli\". Do not use any commas and highlight at least 3 sections that has titles in markdown format, for example *highlighted section part 1*, *highlighted section part 2*, *highlighted section part 3*.', 'response': \"Raymond III Count of Tripoli was a member of the House of Toulouse and ruled as Count of Tripoli from 1152 until his death in 1187. He was the son of Raymond II Count of Tripoli and Hodierna of Jerusalem.\\n\\n**Early Life**\\n\\nLittle is known about Raymond's early life but it is believed that he was born around 1140. His father died in 1152 and he succeeded him as Count of Tripoli at a young age.\\n\\n* **Marriage and Children**\\nRaymond married Eschiva of Arsur which was a strategic marriage to secure the County of Tripoli's borders with the Kingdom of Jerusalem. They had two children together a son Raymond IV Count of Tripoli and a daughter Melisende of Tripoli who would go on to marry Bohemond III Prince of Antioch.\\n\\n**Military Campaigns**\\n\\nRaymond played an important role in the military campaigns of the Kingdom of Jerusalem during his reign. He participated in the Battle of Montgisard in 1177 where he fought alongside King Baldwin IV and was one of the few nobles who survived the battle. He also participated in the Battle of Marj Ayyun in 1179.\\n\\n* **Relationship with Saladin**\\nRaymond had a complex relationship with Saladin Sultan of Egypt and Syria. While they were allies at times Raymond also clashed with him on several occasions. In 1184 he was forced to pay tribute to Saladin after being defeated by him in battle.\\n\\n**Later Life and Death**\\n\\nIn 1187 Raymond's son Raymond IV Count of Tripoli succeeded him as Count of Tripoli but he died shortly after his father. The County of Tripoli then fell under the control of the Ayyubid dynasty after Saladin conquered it in 1188.\", 'filtered_response': \"Raymond III Count of Tripoli was a member of the House of Toulouse and ruled as Count of Tripoli from 1152 until his death in 1187. He was the son of Raymond II Count of Tripoli and Hodierna of Jerusalem.\\n\\n**Early Life**\\n\\nLittle is known about Raymond's early life but it is believed that he was born around 1140. His father died in 1152 and he succeeded him as Count of Tripoli at a young age.\\n\\n* **Marriage and Children**\\nRaymond married Eschiva of Arsur which was a strategic marriage to secure the County of Tripoli's borders with the Kingdom of Jerusalem. They had two children together a son Raymond IV Count of Tripoli and a daughter Melisende of Tripoli who would go on to marry Bohemond III Prince of Antioch.\\n\\n**Military Campaigns**\\n\\nRaymond played an important role in the military campaigns of the Kingdom of Jerusalem during his reign. He participated in the Battle of Montgisard in 1177 where he fought alongside King Baldwin IV and was one of the few nobles who survived the battle. He also participated in the Battle of Marj Ayyun in 1179.\\n\\n* **Relationship with Saladin**\\nRaymond had a complex relationship with Saladin Sultan of Egypt and Syria. While they were allies at times Raymond also clashed with him on several occasions. In 1184 he was forced to pay tribute to Saladin after being defeated by him in battle.\\n\\n**Later Life and Death**\\n\\nIn 1187 Raymond's son Raymond IV Count of Tripoli succeeded him as Count of Tripoli but he died shortly after his father. The County of Tripoli then fell under the control of the Ayyubid dynasty after Saladin conquered it in 1188.\", 'gold': '0', 'metric': 'prompt_level_strict_acc', 'is_correct': False, 'timestamp': '2025-09-24T17-49-21.620980'}, {'model': 'phi3.5', 'task': 'ifeval', 'subtask': 'ifeval', 'prompt_idx': 0, 'prompt': 'Write a 300+ word summary of the wikipedia page \"https://en.wikipedia.org/wiki/Raymond_III,_Count_of_Tripoli\". Do not use any commas and highlight at least 3 sections that has titles in markdown format, for example *highlighted section part 1*, *highlighted section part 2*, *highlighted section part 3*.', 'response': \"Raymond III of Tripoli was a medieval ruler who governed the County of Tripoli from approximately 1175 until his death in 1187. His reign is marked by political intrigue, military engagements, and alliances that shaped the region's history during this period.\\n\\n*Highlighted Section Part 1: Early Life and Ascension to Power*  \\nRaymond III was born into a noble family with deep roots in Tripoli’s aristocracy. His father had previously held significant influence within the county, which provided Raymond an advantageous starting point for his own rule. Following political maneuvering after his brother's death and amidst internal strife among rival factions vying for control of their homeland, he ascended to power as Count in 1175 at a relatively young age.\\n\\n*Highlighted Section Part 2: Political Alliances and Conflicts with the Kingdom of Jerusalem*  \\nRaymond's tenure was characterized by complex relationships between Tripoli and its neighbors, particularly the Crusader states in nearby territories such as the Kingdom of Jerusalem. Raymond sought to maintain a balance while also expanding his own influence; he engaged diplomatically with neighboring rulers but did not hesitate when military action became necessary for territorial gains or defense against external threats like Saladin's forces, which posed significant pressure on Crusader states during this era.\\n\\n*Highlighted Section Part 3: Death and Legacy*  \\nRaymond III died in battle at the Siege of Tortosa (1187), a pivotal moment that marked not only his end but also signaled shifting power dynamics within Crusader states as Saladin's forces made significant advances. His legacy is one intertwined with both military prowess and political acumen, leaving behind an impact on the history of Tripoli which would be felt for generations to come despite his untimely death in conflict at a critical juncture during crusader-Muslim confrontation.\\n\\nRaymond III's rule was defined by strategic alliances and military engagements that sought not only regional dominance but also the survival of Crusader states amidst mounting pressures from Muslim forces, particularly Saladin’s growing power in Syria. His efforts to maintain a balance between diplomacy with neighboring rulers while preparing for conflict when necessary showcased his political acumen and determination as Count of Tripoli during the turbulent times following the First Crusade's initial successes, which were soon challenged by external threats.\\n\\nHis death at Tortosa in 1187 was a significant blow to both himself personally and his county politically; it marked not only an end of life but also symbolized shifting power dynamics within the region as Saladin's forces continued their advance against Crusader states, leading ultimately towards further conflicts that would shape Middle Eastern history. Raymond III’s legacy is one intertwined with military prowess and political acumen; his impact on Tripoli was felt for generations to come despite an untimely death in conflict at a critical juncture during crusader-Muslim confrontation, leaving behind complexities that would continue influencing the region's history.\\n\\nRaymond III’s rule as Count of Tripoli from 1175 until his demise was marked by political intrigue and military engagements which shaped regional dynamics during a time when Crusader states were under constant threat, particularly with Saladin rising to power in Syria. His strategic alliances within the region aimed at maintaining balance while preparing for conflict demonstrated both diplomatic skill and determination amidst challenges from external forces seeking control over these territories during a period of significant upheaval following initial crusader successes, which were soon met with formidable opposition.\\n\\nHis death in battle marked not only the end of his life but also symbolized shifting power dynamics within Crusader states as Saladin’s forces continued their advance against them; this event underscored Raymond's legacy—one intertwined between military prowess and political acumen, leaving an impact on Tripoli that would resonate for generations despite his untimely death at a critical juncture during crusader-Muslim confrontation.\\n\\nRaymond III’s tenure as Count of Tripoli was characterized by strategic alliances and military engagements, which sought to maintain regional balance while preparing for conflict amidst external threats like Saladin's forces that posed significant pressure on Crusader states during this era. His efforts showcased political acumen alongside determination as he navigated the complexities of power dynamics with neighboring rulers and within his own county, leaving a legacy intertwined between military prowess and diplomatic skill amidst challenges from external forces seeking control over these territories during periods following initial crusader success.\\n\\nRaymond III’s rule as Count was defined by strategic alliances with neighboring rulers while preparing for conflict when necessary, showcasing his political acumen and determination amidst challenges from external forces seeking control over these territories during a period following initial crusader success. His efforts to maintain regional balance were marked not only by military engagements but also diplomatic maneuverings that sought both territorial gains for Tripoli as well as the survival of Crusader states amidst mounting pressures from Muslim forces, particularly Saladin’s growing power in Syria during this era.\\n\\nHis death at Tortosa marked not only an end to his life but also symbolized shifting dynamics within crusader-Muslim confrontation; it underscored Raymond's legacy—one intertwined between military prowess and political ac\", 'filtered_response': \"Raymond III of Tripoli was a medieval ruler who governed the County of Tripoli from approximately 1175 until his death in 1187. His reign is marked by political intrigue, military engagements, and alliances that shaped the region's history during this period.\\n\\n*Highlighted Section Part 1: Early Life and Ascension to Power*  \\nRaymond III was born into a noble family with deep roots in Tripoli’s aristocracy. His father had previously held significant influence within the county, which provided Raymond an advantageous starting point for his own rule. Following political maneuvering after his brother's death and amidst internal strife among rival factions vying for control of their homeland, he ascended to power as Count in 1175 at a relatively young age.\\n\\n*Highlighted Section Part 2: Political Alliances and Conflicts with the Kingdom of Jerusalem*  \\nRaymond's tenure was characterized by complex relationships between Tripoli and its neighbors, particularly the Crusader states in nearby territories such as the Kingdom of Jerusalem. Raymond sought to maintain a balance while also expanding his own influence; he engaged diplomatically with neighboring rulers but did not hesitate when military action became necessary for territorial gains or defense against external threats like Saladin's forces, which posed significant pressure on Crusader states during this era.\\n\\n*Highlighted Section Part 3: Death and Legacy*  \\nRaymond III died in battle at the Siege of Tortosa (1187), a pivotal moment that marked not only his end but also signaled shifting power dynamics within Crusader states as Saladin's forces made significant advances. His legacy is one intertwined with both military prowess and political acumen, leaving behind an impact on the history of Tripoli which would be felt for generations to come despite his untimely death in conflict at a critical juncture during crusader-Muslim confrontation.\\n\\nRaymond III's rule was defined by strategic alliances and military engagements that sought not only regional dominance but also the survival of Crusader states amidst mounting pressures from Muslim forces, particularly Saladin’s growing power in Syria. His efforts to maintain a balance between diplomacy with neighboring rulers while preparing for conflict when necessary showcased his political acumen and determination as Count of Tripoli during the turbulent times following the First Crusade's initial successes, which were soon challenged by external threats.\\n\\nHis death at Tortosa in 1187 was a significant blow to both himself personally and his county politically; it marked not only an end of life but also symbolized shifting power dynamics within the region as Saladin's forces continued their advance against Crusader states, leading ultimately towards further conflicts that would shape Middle Eastern history. Raymond III’s legacy is one intertwined with military prowess and political acumen; his impact on Tripoli was felt for generations to come despite an untimely death in conflict at a critical juncture during crusader-Muslim confrontation, leaving behind complexities that would continue influencing the region's history.\\n\\nRaymond III’s rule as Count of Tripoli from 1175 until his demise was marked by political intrigue and military engagements which shaped regional dynamics during a time when Crusader states were under constant threat, particularly with Saladin rising to power in Syria. His strategic alliances within the region aimed at maintaining balance while preparing for conflict demonstrated both diplomatic skill and determination amidst challenges from external forces seeking control over these territories during a period of significant upheaval following initial crusader successes, which were soon met with formidable opposition.\\n\\nHis death in battle marked not only the end of his life but also symbolized shifting power dynamics within Crusader states as Saladin’s forces continued their advance against them; this event underscored Raymond's legacy—one intertwined between military prowess and political acumen, leaving an impact on Tripoli that would resonate for generations despite his untimely death at a critical juncture during crusader-Muslim confrontation.\\n\\nRaymond III’s tenure as Count of Tripoli was characterized by strategic alliances and military engagements, which sought to maintain regional balance while preparing for conflict amidst external threats like Saladin's forces that posed significant pressure on Crusader states during this era. His efforts showcased political acumen alongside determination as he navigated the complexities of power dynamics with neighboring rulers and within his own county, leaving a legacy intertwined between military prowess and diplomatic skill amidst challenges from external forces seeking control over these territories during periods following initial crusader success.\\n\\nRaymond III’s rule as Count was defined by strategic alliances with neighboring rulers while preparing for conflict when necessary, showcasing his political acumen and determination amidst challenges from external forces seeking control over these territories during a period following initial crusader success. His efforts to maintain regional balance were marked not only by military engagements but also diplomatic maneuverings that sought both territorial gains for Tripoli as well as the survival of Crusader states amidst mounting pressures from Muslim forces, particularly Saladin’s growing power in Syria during this era.\\n\\nHis death at Tortosa marked not only an end to his life but also symbolized shifting dynamics within crusader-Muslim confrontation; it underscored Raymond's legacy—one intertwined between military prowess and political ac\", 'gold': '0', 'metric': 'prompt_level_strict_acc', 'is_correct': False, 'timestamp': '2025-09-25T10-25-06.208906'}]}\n"
     ]
    }
   ],
   "source": [
    "url = \"http://localhost:8000/api/tasks/accuracy_per_sample\"\n",
    "params = {\n",
    "    \"task\": \"ifeval\",\n",
    "    \"output_path\": \"eval_results/ifeval_eval\",\n",
    "    \"model_names\": [\"llama3.1\", \"phi3.5\"],\n",
    "    \"prompt\": prompt\n",
    "}\n",
    "headers = {\n",
    "    \"accept\": \"application/json\"\n",
    "}\n",
    "\n",
    "response = requests.get(url, params=params, headers=headers)\n",
    "\n",
    "# Print the response\n",
    "print(response.status_code)\n",
    "print(response.json())  # or response.text if it's not JSON"
   ]
  },
  {
   "cell_type": "code",
   "execution_count": 15,
   "id": "0e6af378",
   "metadata": {},
   "outputs": [
    {
     "data": {
      "text/plain": [
       "dict_keys(['pivot_table', 'responses'])"
      ]
     },
     "execution_count": 15,
     "metadata": {},
     "output_type": "execute_result"
    }
   ],
   "source": [
    "response.json().keys()"
   ]
  },
  {
   "cell_type": "code",
   "execution_count": 16,
   "id": "f92a6202",
   "metadata": {},
   "outputs": [],
   "source": [
    "df_pivot = pd.DataFrame(response.json()['pivot_table'])\n",
    "df_responses = pd.DataFrame(response.json()['responses'])"
   ]
  },
  {
   "cell_type": "code",
   "execution_count": 17,
   "id": "93e604a5",
   "metadata": {},
   "outputs": [
    {
     "data": {
      "text/html": [
       "<div>\n",
       "<style scoped>\n",
       "    .dataframe tbody tr th:only-of-type {\n",
       "        vertical-align: middle;\n",
       "    }\n",
       "\n",
       "    .dataframe tbody tr th {\n",
       "        vertical-align: top;\n",
       "    }\n",
       "\n",
       "    .dataframe thead th {\n",
       "        text-align: right;\n",
       "    }\n",
       "</style>\n",
       "<table border=\"1\" class=\"dataframe\">\n",
       "  <thead>\n",
       "    <tr style=\"text-align: right;\">\n",
       "      <th></th>\n",
       "      <th>task</th>\n",
       "      <th>subtask</th>\n",
       "      <th>prompt_idx</th>\n",
       "      <th>prompt</th>\n",
       "      <th>gold</th>\n",
       "      <th>llama3.1</th>\n",
       "      <th>phi3.5</th>\n",
       "    </tr>\n",
       "  </thead>\n",
       "  <tbody>\n",
       "    <tr>\n",
       "      <th>0</th>\n",
       "      <td>ifeval</td>\n",
       "      <td>ifeval</td>\n",
       "      <td>0</td>\n",
       "      <td>Write a 300+ word summary of the wikipedia pag...</td>\n",
       "      <td>0</td>\n",
       "      <td>False</td>\n",
       "      <td>False</td>\n",
       "    </tr>\n",
       "  </tbody>\n",
       "</table>\n",
       "</div>"
      ],
      "text/plain": [
       "     task subtask  prompt_idx  \\\n",
       "0  ifeval  ifeval           0   \n",
       "\n",
       "                                              prompt gold  llama3.1  phi3.5  \n",
       "0  Write a 300+ word summary of the wikipedia pag...    0     False   False  "
      ]
     },
     "execution_count": 17,
     "metadata": {},
     "output_type": "execute_result"
    }
   ],
   "source": [
    "df_pivot.head()"
   ]
  },
  {
   "cell_type": "code",
   "execution_count": 18,
   "id": "a34d1305",
   "metadata": {},
   "outputs": [
    {
     "data": {
      "text/html": [
       "<div>\n",
       "<style scoped>\n",
       "    .dataframe tbody tr th:only-of-type {\n",
       "        vertical-align: middle;\n",
       "    }\n",
       "\n",
       "    .dataframe tbody tr th {\n",
       "        vertical-align: top;\n",
       "    }\n",
       "\n",
       "    .dataframe thead th {\n",
       "        text-align: right;\n",
       "    }\n",
       "</style>\n",
       "<table border=\"1\" class=\"dataframe\">\n",
       "  <thead>\n",
       "    <tr style=\"text-align: right;\">\n",
       "      <th></th>\n",
       "      <th>model</th>\n",
       "      <th>task</th>\n",
       "      <th>subtask</th>\n",
       "      <th>prompt_idx</th>\n",
       "      <th>prompt</th>\n",
       "      <th>response</th>\n",
       "      <th>filtered_response</th>\n",
       "      <th>gold</th>\n",
       "      <th>metric</th>\n",
       "      <th>is_correct</th>\n",
       "      <th>timestamp</th>\n",
       "    </tr>\n",
       "  </thead>\n",
       "  <tbody>\n",
       "    <tr>\n",
       "      <th>0</th>\n",
       "      <td>llama3.1</td>\n",
       "      <td>ifeval</td>\n",
       "      <td>ifeval</td>\n",
       "      <td>0</td>\n",
       "      <td>Write a 300+ word summary of the wikipedia pag...</td>\n",
       "      <td>Raymond III Count of Tripoli was a member of t...</td>\n",
       "      <td>Raymond III Count of Tripoli was a member of t...</td>\n",
       "      <td>0</td>\n",
       "      <td>prompt_level_strict_acc</td>\n",
       "      <td>False</td>\n",
       "      <td>2025-09-24T17-49-21.620980</td>\n",
       "    </tr>\n",
       "    <tr>\n",
       "      <th>1</th>\n",
       "      <td>phi3.5</td>\n",
       "      <td>ifeval</td>\n",
       "      <td>ifeval</td>\n",
       "      <td>0</td>\n",
       "      <td>Write a 300+ word summary of the wikipedia pag...</td>\n",
       "      <td>Raymond III of Tripoli was a medieval ruler wh...</td>\n",
       "      <td>Raymond III of Tripoli was a medieval ruler wh...</td>\n",
       "      <td>0</td>\n",
       "      <td>prompt_level_strict_acc</td>\n",
       "      <td>False</td>\n",
       "      <td>2025-09-25T10-25-06.208906</td>\n",
       "    </tr>\n",
       "  </tbody>\n",
       "</table>\n",
       "</div>"
      ],
      "text/plain": [
       "      model    task subtask  prompt_idx  \\\n",
       "0  llama3.1  ifeval  ifeval           0   \n",
       "1    phi3.5  ifeval  ifeval           0   \n",
       "\n",
       "                                              prompt  \\\n",
       "0  Write a 300+ word summary of the wikipedia pag...   \n",
       "1  Write a 300+ word summary of the wikipedia pag...   \n",
       "\n",
       "                                            response  \\\n",
       "0  Raymond III Count of Tripoli was a member of t...   \n",
       "1  Raymond III of Tripoli was a medieval ruler wh...   \n",
       "\n",
       "                                   filtered_response gold  \\\n",
       "0  Raymond III Count of Tripoli was a member of t...    0   \n",
       "1  Raymond III of Tripoli was a medieval ruler wh...    0   \n",
       "\n",
       "                    metric  is_correct                   timestamp  \n",
       "0  prompt_level_strict_acc       False  2025-09-24T17-49-21.620980  \n",
       "1  prompt_level_strict_acc       False  2025-09-25T10-25-06.208906  "
      ]
     },
     "execution_count": 18,
     "metadata": {},
     "output_type": "execute_result"
    }
   ],
   "source": [
    "df_responses.head()"
   ]
  },
  {
   "cell_type": "code",
   "execution_count": null,
   "id": "9d22d59f",
   "metadata": {},
   "outputs": [],
   "source": []
  }
 ],
 "metadata": {
  "kernelspec": {
   "display_name": "venv",
   "language": "python",
   "name": "python3"
  },
  "language_info": {
   "codemirror_mode": {
    "name": "ipython",
    "version": 3
   },
   "file_extension": ".py",
   "mimetype": "text/x-python",
   "name": "python",
   "nbconvert_exporter": "python",
   "pygments_lexer": "ipython3",
   "version": "3.10.12"
  }
 },
 "nbformat": 4,
 "nbformat_minor": 5
}
